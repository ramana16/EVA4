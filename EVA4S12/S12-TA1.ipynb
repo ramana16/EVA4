{
  "nbformat": 4,
  "nbformat_minor": 0,
  "metadata": {
    "kernelspec": {
      "name": "python3",
      "display_name": "Python 3"
    },
    "language_info": {
      "codemirror_mode": {
        "name": "ipython",
        "version": 3
      },
      "file_extension": ".py",
      "mimetype": "text/x-python",
      "name": "python",
      "nbconvert_exporter": "python",
      "pygments_lexer": "ipython3",
      "version": "3.6.6"
    },
    "colab": {
      "name": "Copy of S7.ipynb",
      "provenance": [],
      "include_colab_link": true
    },
    "accelerator": "GPU"
  },
  "cells": [
    {
      "cell_type": "markdown",
      "metadata": {
        "id": "view-in-github",
        "colab_type": "text"
      },
      "source": [
        "<a href=\"https://colab.research.google.com/github/ramana16/EVA4/blob/master/EVA4S12/S12-TA1.ipynb\" target=\"_parent\"><img src=\"https://colab.research.google.com/assets/colab-badge.svg\" alt=\"Open In Colab\"/></a>"
      ]
    },
    {
      "cell_type": "code",
      "metadata": {
        "id": "-yVpodAMpoCi",
        "colab_type": "code",
        "colab": {
          "base_uri": "https://localhost:8080/",
          "height": 714
        },
        "outputId": "1b62ec94-0972-4598-be52-8304ad4e9513"
      },
      "source": [
        "\n",
        "%matplotlib inline\n",
        "from google.colab import drive\n",
        "drive.mount('/content/gdrive/',force_remount=True)\n",
        "import sys\n",
        "sys.path.append('/content/gdrive/My Drive/Colab Notebooks/EVA4/S12/')\n",
        "%reload_ext autoreload\n",
        "%autoreload 2\n",
        "\n",
        "import zipfile\n",
        "\n",
        "path_to_zip_file = \"/content/gdrive/My Drive/Colab Notebooks/EVA4/S12/data/tiny-imagenet-200.zip\"\n",
        "directory_to_extract_to = '/content/gdrive/My Drive/Colab Notebooks/EVA4/S12/data/tiny-imagenet-200'\n",
        "#print(\"Extracting zip file: %s\" % path_to_zip_file)\n",
        "#with zipfile.ZipFile(path_to_zip_file, 'r') as zip_ref:\n",
        "#  zip_ref.extractall(directory_to_extract_to)\n",
        "print(\"Extracted at: %s\" % directory_to_extract_to)\n",
        "\n",
        "\n",
        "import torch\n",
        "import torchvision\n",
        "import torch.nn as nn\n",
        "import torch.optim as optim\n",
        "from torch.optim.lr_scheduler import OneCycleLR, ReduceLROnPlateau\n",
        "\n",
        "from config import ModelConfig\n",
        "from models.resnet import ResNet18\n",
        "from train import train\n",
        "from results import plot_images, plot_graph\n",
        "from utilities import *\n",
        "from data.data_engine import DataEngine\n",
        "from gradcam.visualize import VisualizeCam\n",
        "from lr_test.lr_range_test import LRRangeFinder\n",
        "from lr_test.lr_cycle_plot import LRCyclePlot\n",
        "\n",
        "#from test import test\n",
        "\n",
        "# View model config\n",
        "args = ModelConfig()\n",
        "args.print_config()\n",
        "\n",
        "print()\n",
        "# Set seed\n",
        "init_seed(args)\n",
        "\n",
        "data = DataEngine(args)"
      ],
      "execution_count": 1,
      "outputs": [
        {
          "output_type": "stream",
          "text": [
            "Mounted at /content/gdrive/\n",
            "Extracted at: /content/gdrive/My Drive/Colab Notebooks/EVA4/S12/data/tiny-imagenet-200\n"
          ],
          "name": "stdout"
        },
        {
          "output_type": "stream",
          "text": [
            "WARNING:lr_test.lr_finder:To enable mixed precision training, please install `apex`. Or you can re-install this package by the following command:\n",
            "  pip install torch-lr-finder -v --global-option=\"amp\"\n"
          ],
          "name": "stderr"
        },
        {
          "output_type": "stream",
          "text": [
            "Model Parameters:\n",
            "{ 'batch_size_cpu': 128,\n",
            "  'batch_size_cuda': 256,\n",
            "  'dropout': 0,\n",
            "  'epochs': 15,\n",
            "  'l1_decay': 0,\n",
            "  'l2_decay': 0.005,\n",
            "  'lr': 0.001,\n",
            "  'momentum': 0.9,\n",
            "  'num_workers': 4,\n",
            "  'seed': 1,\n",
            "  'test_data_path': '/content/gdrive/My Drive/Colab '\n",
            "                    'Notebooks/EVA4/S12/data/tiny-imagenet-200/new_test',\n",
            "  'train_data_path': '/content/gdrive/My Drive/Colab '\n",
            "                     'Notebooks/EVA4/S12/data/tiny-imagenet-200/new_train'}\n",
            "\n",
            "CUDA Available\n"
          ],
          "name": "stdout"
        },
        {
          "output_type": "error",
          "ename": "RuntimeError",
          "evalue": "ignored",
          "traceback": [
            "\u001b[0;31m---------------------------------------------------------------------------\u001b[0m",
            "\u001b[0;31mRuntimeError\u001b[0m                              Traceback (most recent call last)",
            "\u001b[0;32m<ipython-input-1-cad8a4532ae6>\u001b[0m in \u001b[0;36m<module>\u001b[0;34m()\u001b[0m\n\u001b[1;32m     44\u001b[0m \u001b[0minit_seed\u001b[0m\u001b[0;34m(\u001b[0m\u001b[0margs\u001b[0m\u001b[0;34m)\u001b[0m\u001b[0;34m\u001b[0m\u001b[0;34m\u001b[0m\u001b[0m\n\u001b[1;32m     45\u001b[0m \u001b[0;34m\u001b[0m\u001b[0m\n\u001b[0;32m---> 46\u001b[0;31m \u001b[0mdata\u001b[0m \u001b[0;34m=\u001b[0m \u001b[0mDataEngine\u001b[0m\u001b[0;34m(\u001b[0m\u001b[0margs\u001b[0m\u001b[0;34m)\u001b[0m\u001b[0;34m\u001b[0m\u001b[0;34m\u001b[0m\u001b[0m\n\u001b[0m",
            "\u001b[0;32m/content/gdrive/My Drive/Colab Notebooks/EVA4/S12/data/data_engine.py\u001b[0m in \u001b[0;36m__init__\u001b[0;34m(self, args)\u001b[0m\n\u001b[1;32m     16\u001b[0m                 \u001b[0mself\u001b[0m\u001b[0;34m.\u001b[0m\u001b[0mtrain_data_path\u001b[0m \u001b[0;34m=\u001b[0m \u001b[0margs\u001b[0m\u001b[0;34m.\u001b[0m\u001b[0mtrain_data_path\u001b[0m\u001b[0;34m\u001b[0m\u001b[0;34m\u001b[0m\u001b[0m\n\u001b[1;32m     17\u001b[0m                 \u001b[0mself\u001b[0m\u001b[0;34m.\u001b[0m\u001b[0mtest_data_path\u001b[0m \u001b[0;34m=\u001b[0m \u001b[0margs\u001b[0m\u001b[0;34m.\u001b[0m\u001b[0mtest_data_path\u001b[0m\u001b[0;34m\u001b[0m\u001b[0;34m\u001b[0m\u001b[0m\n\u001b[0;32m---> 18\u001b[0;31m                 \u001b[0mself\u001b[0m\u001b[0;34m.\u001b[0m\u001b[0mload\u001b[0m\u001b[0;34m(\u001b[0m\u001b[0;34m)\u001b[0m\u001b[0;34m\u001b[0m\u001b[0;34m\u001b[0m\u001b[0m\n\u001b[0m\u001b[1;32m     19\u001b[0m \u001b[0;34m\u001b[0m\u001b[0m\n\u001b[1;32m     20\u001b[0m         \u001b[0;32mdef\u001b[0m \u001b[0m_transforms\u001b[0m\u001b[0;34m(\u001b[0m\u001b[0mself\u001b[0m\u001b[0;34m)\u001b[0m\u001b[0;34m:\u001b[0m\u001b[0;34m\u001b[0m\u001b[0;34m\u001b[0m\u001b[0m\n",
            "\u001b[0;32m/content/gdrive/My Drive/Colab Notebooks/EVA4/S12/data/data_engine.py\u001b[0m in \u001b[0;36mload\u001b[0;34m(self)\u001b[0m\n\u001b[1;32m     37\u001b[0m         \u001b[0;32mdef\u001b[0m \u001b[0mload\u001b[0m\u001b[0;34m(\u001b[0m\u001b[0mself\u001b[0m\u001b[0;34m)\u001b[0m\u001b[0;34m:\u001b[0m\u001b[0;34m\u001b[0m\u001b[0;34m\u001b[0m\u001b[0m\n\u001b[1;32m     38\u001b[0m                 \u001b[0;31m# Get Train and Test Data\u001b[0m\u001b[0;34m\u001b[0m\u001b[0;34m\u001b[0m\u001b[0;34m\u001b[0m\u001b[0m\n\u001b[0;32m---> 39\u001b[0;31m                 \u001b[0mtrain_set\u001b[0m\u001b[0;34m,\u001b[0m \u001b[0mtest_set\u001b[0m \u001b[0;34m=\u001b[0m \u001b[0mself\u001b[0m\u001b[0;34m.\u001b[0m\u001b[0m_dataset\u001b[0m\u001b[0;34m(\u001b[0m\u001b[0;34m)\u001b[0m\u001b[0;34m\u001b[0m\u001b[0;34m\u001b[0m\u001b[0m\n\u001b[0m\u001b[1;32m     40\u001b[0m \u001b[0;34m\u001b[0m\u001b[0m\n\u001b[1;32m     41\u001b[0m                 \u001b[0;31m# Dataloader Arguments & Test/Train Dataloaders\u001b[0m\u001b[0;34m\u001b[0m\u001b[0;34m\u001b[0m\u001b[0;34m\u001b[0m\u001b[0m\n",
            "\u001b[0;32m/content/gdrive/My Drive/Colab Notebooks/EVA4/S12/data/data_engine.py\u001b[0m in \u001b[0;36m_dataset\u001b[0;34m(self)\u001b[0m\n\u001b[1;32m     30\u001b[0m                 \u001b[0;31m# Dataset and Creating Train/Test Split\u001b[0m\u001b[0;34m\u001b[0m\u001b[0;34m\u001b[0m\u001b[0;34m\u001b[0m\u001b[0m\n\u001b[1;32m     31\u001b[0m \t\ttrain_set = torchvision.datasets.ImageFolder(root=self.train_data_path,\n\u001b[0;32m---> 32\u001b[0;31m \t\t\ttransform=train_transform)\n\u001b[0m\u001b[1;32m     33\u001b[0m \t\ttest_set = torchvision.datasets.ImageFolder(root=self.test_data_path,\n\u001b[1;32m     34\u001b[0m \t\t\ttransform=test_transform)\n",
            "\u001b[0;32m/usr/local/lib/python3.6/dist-packages/torchvision/datasets/folder.py\u001b[0m in \u001b[0;36m__init__\u001b[0;34m(self, root, transform, target_transform, loader, is_valid_file)\u001b[0m\n\u001b[1;32m    204\u001b[0m                                           \u001b[0mtransform\u001b[0m\u001b[0;34m=\u001b[0m\u001b[0mtransform\u001b[0m\u001b[0;34m,\u001b[0m\u001b[0;34m\u001b[0m\u001b[0;34m\u001b[0m\u001b[0m\n\u001b[1;32m    205\u001b[0m                                           \u001b[0mtarget_transform\u001b[0m\u001b[0;34m=\u001b[0m\u001b[0mtarget_transform\u001b[0m\u001b[0;34m,\u001b[0m\u001b[0;34m\u001b[0m\u001b[0;34m\u001b[0m\u001b[0m\n\u001b[0;32m--> 206\u001b[0;31m                                           is_valid_file=is_valid_file)\n\u001b[0m\u001b[1;32m    207\u001b[0m         \u001b[0mself\u001b[0m\u001b[0;34m.\u001b[0m\u001b[0mimgs\u001b[0m \u001b[0;34m=\u001b[0m \u001b[0mself\u001b[0m\u001b[0;34m.\u001b[0m\u001b[0msamples\u001b[0m\u001b[0;34m\u001b[0m\u001b[0;34m\u001b[0m\u001b[0m\n",
            "\u001b[0;32m/usr/local/lib/python3.6/dist-packages/torchvision/datasets/folder.py\u001b[0m in \u001b[0;36m__init__\u001b[0;34m(self, root, loader, extensions, transform, target_transform, is_valid_file)\u001b[0m\n\u001b[1;32m     96\u001b[0m         \u001b[0;32mif\u001b[0m \u001b[0mlen\u001b[0m\u001b[0;34m(\u001b[0m\u001b[0msamples\u001b[0m\u001b[0;34m)\u001b[0m \u001b[0;34m==\u001b[0m \u001b[0;36m0\u001b[0m\u001b[0;34m:\u001b[0m\u001b[0;34m\u001b[0m\u001b[0;34m\u001b[0m\u001b[0m\n\u001b[1;32m     97\u001b[0m             raise (RuntimeError(\"Found 0 files in subfolders of: \" + self.root + \"\\n\"\n\u001b[0;32m---> 98\u001b[0;31m                                 \"Supported extensions are: \" + \",\".join(extensions)))\n\u001b[0m\u001b[1;32m     99\u001b[0m \u001b[0;34m\u001b[0m\u001b[0m\n\u001b[1;32m    100\u001b[0m         \u001b[0mself\u001b[0m\u001b[0;34m.\u001b[0m\u001b[0mloader\u001b[0m \u001b[0;34m=\u001b[0m \u001b[0mloader\u001b[0m\u001b[0;34m\u001b[0m\u001b[0;34m\u001b[0m\u001b[0m\n",
            "\u001b[0;31mRuntimeError\u001b[0m: Found 0 files in subfolders of: /content/gdrive/My Drive/Colab Notebooks/EVA4/S12/data/tiny-imagenet-200/new_train\nSupported extensions are: .jpg,.jpeg,.png,.ppm,.bmp,.pgm,.tif,.tiff,.webp"
          ]
        }
      ]
    },
    {
      "cell_type": "markdown",
      "metadata": {
        "id": "5kjt4e2TpoCk",
        "colab_type": "text"
      },
      "source": [
        "The output of torchvision datasets are PILImage images of range [0, 1].\n",
        "We transform them to Tensors of normalized range [-1, 1].\n",
        "\n"
      ]
    },
    {
      "cell_type": "code",
      "metadata": {
        "id": "D8Tjigo2poCl",
        "colab_type": "code",
        "colab": {}
      },
      "source": [
        "data = DataEngine(args)\n",
        "data.show_samples()"
      ],
      "execution_count": null,
      "outputs": []
    },
    {
      "cell_type": "code",
      "metadata": {
        "id": "mUHO46yxkIv5",
        "colab_type": "code",
        "colab": {}
      },
      "source": [
        "device = which_device()\n",
        "model = ResNet18(num_classes=200).to(device)\n",
        "show_model_summary(model, (3,64,64))"
      ],
      "execution_count": null,
      "outputs": []
    },
    {
      "cell_type": "code",
      "metadata": {
        "id": "vikdDISukNio",
        "colab_type": "code",
        "colab": {}
      },
      "source": [
        "def test(model, device, test_loader, criterion, classes, test_losses, test_accs,\n",
        "         misclassified_imgs, correct_imgs, is_last_epoch):\n",
        "    model.eval()\n",
        "    test_loss = 0\n",
        "    correct = 0\n",
        "    with torch.no_grad():\n",
        "        for data, target in test_loader:\n",
        "            data, target = data.to(device), target.to(device)\n",
        "            output = model(data)\n",
        "            test_loss +=criterion(output, target).item()  # sum up batch loss\n",
        "            pred = output.argmax(dim=1, keepdim=True)  # get the index of the max log-probability\n",
        "            is_correct = pred.eq(target.view_as(pred))\n",
        "            if is_last_epoch:\n",
        "              misclassified_inds = (is_correct==0).nonzero()[:,0]\n",
        "              for mis_ind in misclassified_inds:\n",
        "                if len(misclassified_imgs) == 25:\n",
        "                  break\n",
        "                misclassified_imgs.append({\n",
        "                    \"target\": target[mis_ind].cpu().numpy(),\n",
        "                    \"pred\": pred[mis_ind][0].cpu().numpy(),\n",
        "                    \"img\": data[mis_ind]\n",
        "                })\n",
        "              \n",
        "              correct_inds = (is_correct==1).nonzero()[:,0]\n",
        "              for ind in correct_inds:\n",
        "                if len(correct_imgs) == 25:\n",
        "                  break\n",
        "                correct_imgs.append({\n",
        "                    \"target\": target[ind].cpu().numpy(),\n",
        "                    \"pred\": pred[ind][0].cpu().numpy(),\n",
        "                    \"img\": data[ind]\n",
        "                })\n",
        "            correct += is_correct.sum().item()\n",
        "\n",
        "    test_loss /= len(test_loader)\n",
        "    test_losses.append(test_loss)\n",
        "    \n",
        "    test_acc = 100. * correct / len(test_loader.dataset)\n",
        "    test_accs.append(test_acc)\n",
        "\n",
        "    if test_acc >= 90.0:\n",
        "        classwise_acc(model, device, test_loader, classes)\n",
        "\n",
        "    print('Test set: Average loss: {:.4f}, Accuracy: {}/{} ({:.2f}%)\\n'.format(\n",
        "        test_loss, correct, len(test_loader.dataset), test_acc))\n",
        "\n",
        "def classwise_acc(model, device, test_loader, classes):\n",
        "    class_correct = list(0. for i in range(10))\n",
        "    class_total = list(0. for i in range(10))\n",
        "    with torch.no_grad():\n",
        "        for images, labels in test_loader:\n",
        "            images, labels = images.to(device), labels.to(device)\n",
        "            outputs = model(images)\n",
        "            _, predicted = torch.max(outputs, 1)\n",
        "            c = (predicted == labels).squeeze()\n",
        "            for i in range(4):\n",
        "                label = labels[i]\n",
        "                class_correct[label] += c[i].item()\n",
        "                class_total[label] += 1\n",
        "    \n",
        "    # print class-wise test accuracies\n",
        "    print()\n",
        "    for i in range(10):\n",
        "      print('Accuracy of %5s : %2d %%' % (\n",
        "          classes[i], 100 * class_correct[i] / class_total[i]))\n",
        "    print()"
      ],
      "execution_count": null,
      "outputs": []
    },
    {
      "cell_type": "code",
      "metadata": {
        "id": "CH-kSI2hMVsr",
        "colab_type": "code",
        "colab": {}
      },
      "source": [
        "epochs = 30\n",
        "criterion = nn.CrossEntropyLoss()\n",
        "optimizer = optim.SGD(model.parameters(), lr=0.01, momentum=args.momentum)\n",
        "scheduler = OneCycleLR(optimizer, max_lr=0.02, steps_per_epoch=len(data.train_loader),\n",
        "                       epochs=epochs, div_factor=10, final_div_factor=10,\n",
        "                       pct_start=10/epochs)\n",
        "\n",
        "test_losses, train_losses, test_accs, train_accs = [], [], [], []\n",
        "misclassified_imgs, correct_imgs = [], []\n",
        "lr_trend = []\n",
        "def run(l1_decay=0.0, l2_decay=0.0):\n",
        "  for epoch in range(epochs):\n",
        "      lr_trend.append(optimizer.param_groups[0]['lr'])\n",
        "      print(f\"EPOCH: {epoch+1} (LR: {lr_trend[-1]:0.6f})\")\n",
        "      train(model, device, data.train_loader, criterion, optimizer, epoch,\n",
        "            l1_decay,l2_decay, train_losses, train_accs, scheduler)\n",
        "      test(model, device, data.test_loader, criterion, data.classes, test_losses,\n",
        "           test_accs, misclassified_imgs, correct_imgs, False)\n",
        "\n",
        "# train and test the model\n",
        "run(l1_decay=args.l1_decay, l2_decay=args.l2_decay)"
      ],
      "execution_count": null,
      "outputs": []
    },
    {
      "cell_type": "code",
      "metadata": {
        "id": "EN5-0a3Jl3HS",
        "colab_type": "code",
        "colab": {}
      },
      "source": [
        "optimizer = optim.SGD(model.parameters(), lr=0.0005, momentum=args.momentum)\n",
        "scheduler = ReduceLROnPlateau(optimizer, mode=\"min\", factor=0.5, patience=1,\n",
        "                              verbose=True, min_lr=1e-5)\n",
        "\n",
        "misclassified_imgs, correct_imgs = [], []\n",
        "epochs = 10\n",
        "def run(l1_decay=0.0, l2_decay=0.0):\n",
        "  for epoch in range(epochs):\n",
        "      lr_trend.append(optimizer.param_groups[0]['lr'])\n",
        "      print(f\"EPOCH: {epoch+1+30} (LR: {lr_trend[-1]:0.6f})\")\n",
        "      train(model, device, data.train_loader, criterion, optimizer, epoch,\n",
        "            l1_decay,l2_decay, train_losses, train_accs)\n",
        "      test(model, device, data.test_loader, criterion, data.classes, test_losses,\n",
        "           test_accs, misclassified_imgs, correct_imgs, epoch==epochs-1)\n",
        "      scheduler.step(test_losses[-1])\n",
        "\n",
        "# train and test the model\n",
        "run(l1_decay=args.l1_decay, l2_decay=args.l2_decay)"
      ],
      "execution_count": null,
      "outputs": []
    },
    {
      "cell_type": "code",
      "metadata": {
        "id": "SUY79ZdopHGs",
        "colab_type": "code",
        "colab": {}
      },
      "source": [
        "print('Device set to ', device)"
      ],
      "execution_count": null,
      "outputs": []
    },
    {
      "cell_type": "code",
      "metadata": {
        "id": "umEUJOb4NNqw",
        "colab_type": "code",
        "colab": {}
      },
      "source": [
        "lrplt = LRCyclePlot({})\n",
        "lrplt(\"lr_cycle_plot_test.png\")"
      ],
      "execution_count": null,
      "outputs": []
    },
    {
      "cell_type": "markdown",
      "metadata": {
        "id": "_cj433rtpoCn",
        "colab_type": "text"
      },
      "source": [
        "Let us show some of the training images, for fun.\n",
        "\n"
      ]
    },
    {
      "cell_type": "code",
      "metadata": {
        "id": "ppnjGXv-nVoI",
        "colab_type": "code",
        "colab": {}
      },
      "source": [
        "plt_data = {\n",
        "    \"lr\": lr_trend,\n",
        "}\n",
        "plot_graph(plt_data, \"LR\")"
      ],
      "execution_count": null,
      "outputs": []
    },
    {
      "cell_type": "code",
      "metadata": {
        "id": "lvzeXipJnXVI",
        "colab_type": "code",
        "colab": {}
      },
      "source": [
        "plt_data = {\n",
        "    \"val\": test_losses,\n",
        "}\n",
        "plot_graph(plt_data, \"Loss\")"
      ],
      "execution_count": null,
      "outputs": []
    },
    {
      "cell_type": "code",
      "metadata": {
        "id": "yADVVI_iNaZ-",
        "colab_type": "code",
        "colab": {}
      },
      "source": [
        "plt_data = {\n",
        "    \"train\": train_accs,\n",
        "    \"val\": test_accs\n",
        "}\n",
        "plot_graph(plt_data, \"Accuracy\")"
      ],
      "execution_count": null,
      "outputs": []
    },
    {
      "cell_type": "code",
      "metadata": {
        "id": "YkFCu7CxnYmX",
        "colab_type": "code",
        "colab": {}
      },
      "source": [
        "\n",
        "target_layers = [\"layer0\", \"layer1\", \"layer2\", \"layer3\"]\n",
        "viz_cam = VisualizeCam(model,data.classes, target_layers)"
      ],
      "execution_count": null,
      "outputs": []
    },
    {
      "cell_type": "code",
      "metadata": {
        "id": "gOc2FlScr0p5",
        "colab_type": "code",
        "colab": {}
      },
      "source": [
        "num_img = 25\n",
        "incorrect_pred_imgs = []\n",
        "truth_inds = []\n",
        "for i in range(num_img):\n",
        "  incorrect_pred_imgs.append(torch.as_tensor(misclassified_imgs[i][\"img\"]))\n",
        "  truth_inds.append(misclassified_imgs[i][\"target\"])\n",
        "viz_cam(torch.stack(incorrect_pred_imgs), truth_inds, target_layers, metric=\"incorrect\", per_image=False)"
      ],
      "execution_count": null,
      "outputs": []
    }
  ]
}