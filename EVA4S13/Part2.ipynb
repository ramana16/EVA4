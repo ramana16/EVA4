{
  "nbformat": 4,
  "nbformat_minor": 0,
  "metadata": {
    "colab": {
      "name": "Untitled0.ipynb",
      "provenance": [],
      "authorship_tag": "ABX9TyOpIMCU1V89MaNDwRFZm6AH",
      "include_colab_link": true
    },
    "kernelspec": {
      "name": "python3",
      "display_name": "Python 3"
    }
  },
  "cells": [
    {
      "cell_type": "markdown",
      "metadata": {
        "id": "view-in-github",
        "colab_type": "text"
      },
      "source": [
        "<a href=\"https://colab.research.google.com/github/ramana16/EVA4/blob/master/EVA4S13/Part2.ipynb\" target=\"_parent\"><img src=\"https://colab.research.google.com/assets/colab-badge.svg\" alt=\"Open In Colab\"/></a>"
      ]
    },
    {
      "cell_type": "code",
      "metadata": {
        "id": "NaefM8JIlUWu",
        "colab_type": "code",
        "colab": {}
      },
      "source": [
        "!git clone https://github.com/ramana16/YoloV3.git"
      ],
      "execution_count": null,
      "outputs": []
    },
    {
      "cell_type": "code",
      "metadata": {
        "id": "pnYcR3GPlXNN",
        "colab_type": "code",
        "colab": {}
      },
      "source": [
        "from google.colab import drive\n",
        "drive.mount('/content/gdrive')"
      ],
      "execution_count": null,
      "outputs": []
    },
    {
      "cell_type": "code",
      "metadata": {
        "id": "o0Tp5JIileui",
        "colab_type": "code",
        "colab": {}
      },
      "source": [
        "import time\n",
        "import glob\n",
        "import torch\n",
        "import os\n",
        "\n",
        "from IPython.display import Image, clear_output \n",
        "print('PyTorch %s %s' % (torch.__version__, torch.cuda.get_device_properties(0) if torch.cuda.is_available() else 'CPU'))"
      ],
      "execution_count": null,
      "outputs": []
    },
    {
      "cell_type": "code",
      "metadata": {
        "id": "mp2MJ0jZlhKv",
        "colab_type": "code",
        "colab": {}
      },
      "source": [
        "ls"
      ],
      "execution_count": null,
      "outputs": []
    },
    {
      "cell_type": "code",
      "metadata": {
        "id": "EnJ7TgUcliz0",
        "colab_type": "code",
        "colab": {}
      },
      "source": [
        "cd YoloV3/"
      ],
      "execution_count": null,
      "outputs": []
    },
    {
      "cell_type": "code",
      "metadata": {
        "id": "HbeCaG2anQkh",
        "colab_type": "code",
        "colab": {}
      },
      "source": [
        "!mkdir weights"
      ],
      "execution_count": null,
      "outputs": []
    },
    {
      "cell_type": "code",
      "metadata": {
        "id": "lxwlmvtMnV5f",
        "colab_type": "code",
        "colab": {}
      },
      "source": [
        "cp \"/content/gdrive/My Drive/Colab Notebooks/EVA4/S13/Weights/yolov3-spp-ultralytics.pt\" \"weights/\""
      ],
      "execution_count": null,
      "outputs": []
    },
    {
      "cell_type": "code",
      "metadata": {
        "id": "Dfltc59BlkV6",
        "colab_type": "code",
        "colab": {}
      },
      "source": [
        "!python train.py --data data/smalcoco/smalcoco.data --batch 3 --cache --epochs 3 --nosave"
      ],
      "execution_count": null,
      "outputs": []
    },
    {
      "cell_type": "code",
      "metadata": {
        "id": "vXeY8m2Qlm_h",
        "colab_type": "code",
        "colab": {}
      },
      "source": [
        "!python train.py --data data/customdata/custom.data --batch 10 --cache --cfg cfg/yolov3-custom.cfg --epochs 100 --nosave"
      ],
      "execution_count": null,
      "outputs": []
    },
    {
      "cell_type": "code",
      "metadata": {
        "id": "MaRY3UHylqEA",
        "colab_type": "code",
        "colab": {}
      },
      "source": [
        "!python detect.py --conf-thres 0.1 --output out_out"
      ],
      "execution_count": null,
      "outputs": []
    }
  ]
}