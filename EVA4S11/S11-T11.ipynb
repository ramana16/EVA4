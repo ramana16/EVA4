{
  "nbformat": 4,
  "nbformat_minor": 0,
  "metadata": {
    "kernelspec": {
      "name": "python3",
      "display_name": "Python 3"
    },
    "language_info": {
      "codemirror_mode": {
        "name": "ipython",
        "version": 3
      },
      "file_extension": ".py",
      "mimetype": "text/x-python",
      "name": "python",
      "nbconvert_exporter": "python",
      "pygments_lexer": "ipython3",
      "version": "3.6.6"
    },
    "colab": {
      "name": "Copy of S7.ipynb",
      "provenance": [],
      "include_colab_link": true
    },
    "accelerator": "GPU"
  },
  "cells": [
    {
      "cell_type": "markdown",
      "metadata": {
        "id": "view-in-github",
        "colab_type": "text"
      },
      "source": [
        "<a href=\"https://colab.research.google.com/github/ramana16/EVA4/blob/master/EVA4S11/S11-T11.ipynb\" target=\"_parent\"><img src=\"https://colab.research.google.com/assets/colab-badge.svg\" alt=\"Open In Colab\"/></a>"
      ]
    },
    {
      "cell_type": "code",
      "metadata": {
        "id": "-yVpodAMpoCi",
        "colab_type": "code",
        "colab": {}
      },
      "source": [
        "\n",
        "%matplotlib inline\n",
        "from google.colab import drive\n",
        "drive.mount('/content/gdrive/',force_remount=True)\n",
        "import sys\n",
        "sys.path.append('/content/gdrive/My Drive/Colab Notebooks/EVA4/S11/')\n",
        "\n",
        "import torch\n",
        "import torchvision\n",
        "import torch.nn as nn\n",
        "import torch.optim as optim\n",
        "from torch.optim.lr_scheduler import OneCycleLR\n",
        "\n",
        "from config import ModelConfig\n",
        "from models.CustomCIFARNet import NetCifar10\n",
        "from train import train\n",
        "from results import plot_images, plot_graph\n",
        "from utilities import *\n",
        "from data_engine import DataEngine\n",
        "from gradcam.visualize import VisualizeCam\n",
        "from lr_test.lr_range_test import LRRangeFinder\n",
        "from lr_test.lr_cycle_plot import LRCyclePlot\n",
        "\n",
        "#from test import test\n",
        "\n",
        "# View model config\n",
        "args = ModelConfig()\n",
        "args.print_config()\n",
        "\n",
        "print()\n",
        "# Set seed\n",
        "init_seed(args)\n",
        "\n",
        "data = DataEngine(args)"
      ],
      "execution_count": 0,
      "outputs": []
    },
    {
      "cell_type": "markdown",
      "metadata": {
        "id": "5kjt4e2TpoCk",
        "colab_type": "text"
      },
      "source": [
        "The output of torchvision datasets are PILImage images of range [0, 1].\n",
        "We transform them to Tensors of normalized range [-1, 1].\n",
        "\n"
      ]
    },
    {
      "cell_type": "code",
      "metadata": {
        "id": "D8Tjigo2poCl",
        "colab_type": "code",
        "colab": {}
      },
      "source": [
        "data = DataEngine(args)\n",
        "data.show_samples()"
      ],
      "execution_count": 0,
      "outputs": []
    },
    {
      "cell_type": "code",
      "metadata": {
        "id": "mUHO46yxkIv5",
        "colab_type": "code",
        "colab": {}
      },
      "source": [
        "device = which_device()\n",
        "model = NetCifar10().to(device)\n",
        "show_model_summary(model, (3,32,32))\n",
        "\n"
      ],
      "execution_count": 0,
      "outputs": []
    },
    {
      "cell_type": "code",
      "metadata": {
        "id": "vikdDISukNio",
        "colab_type": "code",
        "colab": {}
      },
      "source": [
        "def test(model, device, test_loader, criterion, classes, test_losses, test_accs,\n",
        "         misclassified_imgs, correct_imgs, is_last_epoch):\n",
        "    model.eval()\n",
        "    test_loss = 0\n",
        "    correct = 0\n",
        "    with torch.no_grad():\n",
        "        for data, target in test_loader:\n",
        "            data, target = data.to(device), target.to(device)\n",
        "            output = model(data)\n",
        "            test_loss +=criterion(output, target).item()  # sum up batch loss\n",
        "            pred = output.argmax(dim=1, keepdim=True)  # get the index of the max log-probability\n",
        "            is_correct = pred.eq(target.view_as(pred))\n",
        "            if is_last_epoch:\n",
        "              misclassified_inds = (is_correct==0).nonzero()[:,0]\n",
        "              for mis_ind in misclassified_inds:\n",
        "                if len(misclassified_imgs) == 25:\n",
        "                  break\n",
        "                misclassified_imgs.append({\n",
        "                    \"target\": target[mis_ind].cpu().numpy(),\n",
        "                    \"pred\": pred[mis_ind][0].cpu().numpy(),\n",
        "                    \"img\": data[mis_ind]\n",
        "                })\n",
        "              \n",
        "              correct_inds = (is_correct==1).nonzero()[:,0]\n",
        "              for ind in correct_inds:\n",
        "                if len(correct_imgs) == 25:\n",
        "                  break\n",
        "                correct_imgs.append({\n",
        "                    \"target\": target[ind].cpu().numpy(),\n",
        "                    \"pred\": pred[ind][0].cpu().numpy(),\n",
        "                    \"img\": data[ind]\n",
        "                })\n",
        "            correct += is_correct.sum().item()\n",
        "\n",
        "    test_loss /= len(test_loader)\n",
        "    test_losses.append(test_loss)\n",
        "    \n",
        "    test_acc = 100. * correct / len(test_loader.dataset)\n",
        "    test_accs.append(test_acc)\n",
        "\n",
        "    if test_acc >= 90.0:\n",
        "        classwise_acc(model, device, test_loader, classes)\n",
        "\n",
        "    print('Test set: Average loss: {:.4f}, Accuracy: {}/{} ({:.2f}%)\\n'.format(\n",
        "        test_loss, correct, len(test_loader.dataset), test_acc))\n",
        "\n",
        "def classwise_acc(model, device, test_loader, classes):\n",
        "    class_correct = list(0. for i in range(10))\n",
        "    class_total = list(0. for i in range(10))\n",
        "    with torch.no_grad():\n",
        "        for images, labels in test_loader:\n",
        "            images, labels = images.to(device), labels.to(device)\n",
        "            outputs = model(images)\n",
        "            _, predicted = torch.max(outputs, 1)\n",
        "            c = (predicted == labels).squeeze()\n",
        "            for i in range(4):\n",
        "                label = labels[i]\n",
        "                class_correct[label] += c[i].item()\n",
        "                class_total[label] += 1\n",
        "    \n",
        "    # print class-wise test accuracies\n",
        "    print()\n",
        "    for i in range(10):\n",
        "      print('Accuracy of %5s : %2d %%' % (\n",
        "          classes[i], 100 * class_correct[i] / class_total[i]))\n",
        "    print()"
      ],
      "execution_count": 0,
      "outputs": []
    },
    {
      "cell_type": "code",
      "metadata": {
        "id": "CH-kSI2hMVsr",
        "colab_type": "code",
        "colab": {}
      },
      "source": [
        "criterion = nn.NLLLoss()\n",
        "optimizer = optim.SGD(model.parameters(), lr=args.lr, momentum=args.momentum)\n",
        "lr_finder = LRRangeFinder(model, optimizer, criterion, device=device)\n",
        "lr_finder.range_test(data.train_loader, val_loader=data.test_loader, start_lr=1e-4, end_lr=0.02,\n",
        "                     epochs=50, step_mode=\"linear\")\n",
        "lr_finder.plot(metric='acc', skip_start=10, skip_end=0)\n",
        "lr_finder.reset()"
      ],
      "execution_count": 0,
      "outputs": []
    },
    {
      "cell_type": "code",
      "metadata": {
        "id": "SUY79ZdopHGs",
        "colab_type": "code",
        "colab": {}
      },
      "source": [
        "print('Device set to ', device)"
      ],
      "execution_count": 0,
      "outputs": []
    },
    {
      "cell_type": "code",
      "metadata": {
        "id": "cD5yCnEXMfoX",
        "colab_type": "code",
        "colab": {}
      },
      "source": [
        "best_acc = lr_finder.best_acc\n",
        "best_lr = lr_finder.history[\"lr\"][lr_finder.history[\"acc\"].index(best_acc)]\n",
        "print(\"Best Accuracy: %s\\nBest Learning Rate: %s\" % (best_acc, best_lr))"
      ],
      "execution_count": 0,
      "outputs": []
    },
    {
      "cell_type": "code",
      "metadata": {
        "id": "umEUJOb4NNqw",
        "colab_type": "code",
        "colab": {}
      },
      "source": [
        "lrplt = LRCyclePlot({})\n",
        "lrplt(\"lr_cycle_plot_test.png\")"
      ],
      "execution_count": 0,
      "outputs": []
    },
    {
      "cell_type": "code",
      "metadata": {
        "id": "hGO8tYI4MiX_",
        "colab_type": "code",
        "colab": {}
      },
      "source": [
        "criterion = nn.NLLLoss()\n",
        "optimizer = optim.SGD(model.parameters(), lr=args.lr, momentum=args.momentum)\n",
        "scheduler = OneCycleLR(optimizer, max_lr=best_lr, steps_per_epoch=len(data.train_loader),\n",
        "                       epochs=args.epochs, div_factor=10, final_div_factor=1,\n",
        "                       pct_start=5/args.epochs, anneal_strategy=\"linear\")\n",
        "\n",
        "test_losses, train_losses, test_accs, train_accs = [], [], [], []\n",
        "misclassified_imgs, correct_imgs = [], []\n",
        "lr_trend = []\n",
        "def run(l1_decay=0.0, l2_decay=0.0):\n",
        "  for epoch in range(args.epochs):\n",
        "      lr_trend.append(optimizer.param_groups[0]['lr'])\n",
        "      print(f\"EPOCH: {epoch+1} (LR: {lr_trend[-1]:0.6f})\")\n",
        "      train(model, device, data.train_loader, criterion, optimizer, epoch,\n",
        "            l1_decay,l2_decay, train_losses, train_accs, scheduler)\n",
        "      test(model, device, data.test_loader, criterion, data.classes, test_losses,\n",
        "           test_accs, misclassified_imgs, correct_imgs, epoch==args.epochs-1)\n",
        "\n",
        "# train and test the model\n",
        "run(l1_decay=args.l1_decay, l2_decay=args.l2_decay)"
      ],
      "execution_count": 0,
      "outputs": []
    },
    {
      "cell_type": "markdown",
      "metadata": {
        "id": "_cj433rtpoCn",
        "colab_type": "text"
      },
      "source": [
        "Let us show some of the training images, for fun.\n",
        "\n"
      ]
    },
    {
      "cell_type": "code",
      "metadata": {
        "id": "ppnjGXv-nVoI",
        "colab_type": "code",
        "colab": {}
      },
      "source": [
        "plt_data = {\n",
        "    \"lr\": lr_trend,\n",
        "}\n",
        "plot_graph(plt_data, \"LR\")"
      ],
      "execution_count": 0,
      "outputs": []
    },
    {
      "cell_type": "code",
      "metadata": {
        "id": "lvzeXipJnXVI",
        "colab_type": "code",
        "colab": {}
      },
      "source": [
        "plt_data = {\n",
        "    \"val\": test_losses,\n",
        "}\n",
        "plot_graph(plt_data, \"Loss\")"
      ],
      "execution_count": 0,
      "outputs": []
    },
    {
      "cell_type": "code",
      "metadata": {
        "id": "yADVVI_iNaZ-",
        "colab_type": "code",
        "colab": {}
      },
      "source": [
        "plt_data = {\n",
        "    \"train\": train_accs,\n",
        "    \"val\": test_accs\n",
        "}\n",
        "plot_graph(plt_data, \"Accuracy\")"
      ],
      "execution_count": 0,
      "outputs": []
    },
    {
      "cell_type": "code",
      "metadata": {
        "id": "YkFCu7CxnYmX",
        "colab_type": "code",
        "colab": {}
      },
      "source": [
        "\n",
        "target_layers = [\"layer0\", \"layer1\", \"layer2\", \"layer3\"]\n",
        "viz_cam = VisualizeCam(model,data.classes, target_layers)"
      ],
      "execution_count": 0,
      "outputs": []
    },
    {
      "cell_type": "code",
      "metadata": {
        "id": "gOc2FlScr0p5",
        "colab_type": "code",
        "colab": {}
      },
      "source": [
        "num_img = 5\n",
        "incorrect_pred_imgs = []\n",
        "truth_inds = []\n",
        "for i in range(num_img):\n",
        "  incorrect_pred_imgs.append(torch.as_tensor(misclassified_imgs[i][\"img\"]))\n",
        "  truth_inds.append(misclassified_imgs[i][\"target\"])\n",
        "viz_cam(torch.stack(incorrect_pred_imgs), truth_inds, target_layers, metric=\"incorrect\")"
      ],
      "execution_count": 0,
      "outputs": []
    }
  ]
}